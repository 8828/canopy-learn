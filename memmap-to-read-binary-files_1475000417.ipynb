{
 "cells": [
  {
   "cell_type": "markdown",
   "metadata": {},
   "source": [
    "# Reading Binary Files"
   ]
  },
  {
   "cell_type": "code",
   "execution_count": 1,
   "metadata": {
    "collapsed": false
   },
   "outputs": [],
   "source": [
    "# imports required but not shown in the video lecture.\n",
    "from numpy import array, dtype, int32, memmap"
   ]
  },
  {
   "cell_type": "code",
   "execution_count": 2,
   "metadata": {
    "collapsed": false
   },
   "outputs": [],
   "source": [
    "# Create binary files\n",
    "content = ('\\x06\\x00\\x00\\x00\\x05\\x00\\x00\\x00\\x00\\x00\\x00\\x00\\x00\\x00\\x00\\x00\\x00\\x00\\x00\\x00\\x00\\x00\\xf0?'\n",
    "           '\\x00\\x00\\x00\\x00\\x00\\x00\\x00@\\x00\\x00\\x00\\x00\\x00\\x00\\x08@\\x00\\x00\\x00\\x00\\x00\\x00\\x10@\\x00'\n",
    "           '\\x00\\x00\\x00\\x00\\x00\\x14@\\x00\\x00\\x00\\x00\\x00\\x00\\x18@\\x00\\x00\\x00\\x00\\x00\\x00\\x1c@\\x00\\x00'\n",
    "           '\\x00\\x00\\x00\\x00 @\\x00\\x00\\x00\\x00\\x00\\x00\"@\\x00\\x00\\x00\\x00\\x00\\x00$@\\x00\\x00\\x00\\x00\\x00\\x00&@'\n",
    "           '\\x00\\x00\\x00\\x00\\x00\\x00(@\\x00\\x00\\x00\\x00\\x00\\x00*@\\x00\\x00\\x00\\x00\\x00\\x00,@\\x00\\x00\\x00\\x00\\x00'\n",
    "           '\\x00.@\\x00\\x00\\x00\\x00\\x00\\x000@\\x00\\x00\\x00\\x00\\x00\\x001@\\x00\\x00\\x00\\x00\\x00\\x002@\\x00\\x00\\x00'\n",
    "           '\\x00\\x00\\x003@\\x00\\x00\\x00\\x00\\x00\\x004@\\x00\\x00\\x00\\x00\\x00\\x005@\\x00\\x00\\x00\\x00\\x00\\x006@\\x00'\n",
    "           '\\x00\\x00\\x00\\x00\\x007@\\x00\\x00\\x00\\x00\\x00\\x008@\\x00\\x00\\x00\\x00\\x00\\x009@\\x00\\x00\\x00\\x00\\x00\\x00:@'\n",
    "           '\\x00\\x00\\x00\\x00\\x00\\x00;@\\x00\\x00\\x00\\x00\\x00\\x00<@\\x00\\x00\\x00\\x00\\x00\\x00=@'\n",
    "          )\n",
    "with open('data.bin', 'wb') as f:\n",
    "    f.write(content)\n",
    "with open('writable.bin', 'wb') as f:\n",
    "    f.write(content)"
   ]
  },
  {
   "cell_type": "markdown",
   "metadata": {},
   "source": [
    "## Working With File Header"
   ]
  },
  {
   "cell_type": "markdown",
   "metadata": {},
   "source": [
    "Create a dtype to represent the header."
   ]
  },
  {
   "cell_type": "code",
   "execution_count": 3,
   "metadata": {
    "collapsed": false
   },
   "outputs": [],
   "source": [
    "header_dtype = dtype([('rows', int32), ('cols', int32)])"
   ]
  },
  {
   "cell_type": "markdown",
   "metadata": {},
   "source": [
    "Create a memory mapped array using this dtype. Note the shape is empty."
   ]
  },
  {
   "cell_type": "code",
   "execution_count": 6,
   "metadata": {
    "collapsed": false
   },
   "outputs": [
    {
     "data": {
      "text/plain": [
       "memmap((6, 5), \n",
       "      dtype=[('rows', '<i4'), ('cols', '<i4')])"
      ]
     },
     "execution_count": 6,
     "metadata": {},
     "output_type": "execute_result"
    }
   ],
   "source": [
    "header = memmap('data.bin', mode='r', dtype=header_dtype, shape=())\n",
    "header"
   ]
  },
  {
   "cell_type": "markdown",
   "metadata": {},
   "source": [
    "Read the row and column sizes from using this structured array."
   ]
  },
  {
   "cell_type": "code",
   "execution_count": 5,
   "metadata": {
    "collapsed": false
   },
   "outputs": [
    {
     "data": {
      "text/plain": [
       "(memmap(6, dtype=int32), memmap(5, dtype=int32))"
      ]
     },
     "execution_count": 5,
     "metadata": {},
     "output_type": "execute_result"
    }
   ],
   "source": [
    "rows = header['rows']\n",
    "cols = header['cols']\n",
    "rows, cols"
   ]
  },
  {
   "cell_type": "markdown",
   "metadata": {},
   "source": [
    "Create a memory map to the data segment, using rows, cols for shape information and the header size to determine the correct offset."
   ]
  },
  {
   "cell_type": "code",
   "execution_count": 7,
   "metadata": {
    "collapsed": false
   },
   "outputs": [],
   "source": [
    "data = memmap('data.bin', mode=\"r+\", dtype='float64',\n",
    "              shape=(rows, cols), offset=header_dtype.itemsize)"
   ]
  },
  {
   "cell_type": "code",
   "execution_count": 8,
   "metadata": {
    "collapsed": false
   },
   "outputs": [
    {
     "data": {
      "text/plain": [
       "memmap([[  0.,   1.,   2.,   3.,   4.],\n",
       "       [  5.,   6.,   7.,   8.,   9.],\n",
       "       [ 10.,  11.,  12.,  13.,  14.],\n",
       "       [ 15.,  16.,  17.,  18.,  19.],\n",
       "       [ 20.,  21.,  22.,  23.,  24.],\n",
       "       [ 25.,  26.,  27.,  28.,  29.]])"
      ]
     },
     "execution_count": 8,
     "metadata": {},
     "output_type": "execute_result"
    }
   ],
   "source": [
    "data"
   ]
  },
  {
   "cell_type": "markdown",
   "metadata": {},
   "source": [
    "## Memory Maps with ndarray"
   ]
  },
  {
   "cell_type": "markdown",
   "metadata": {},
   "source": [
    "`mmap` is a standard Python module for working with memory maps."
   ]
  },
  {
   "cell_type": "code",
   "execution_count": 9,
   "metadata": {
    "collapsed": true
   },
   "outputs": [],
   "source": [
    "import mmap \n",
    "import numpy"
   ]
  },
  {
   "cell_type": "markdown",
   "metadata": {},
   "source": [
    "Create a dtype to represent the header."
   ]
  },
  {
   "cell_type": "code",
   "execution_count": 10,
   "metadata": {
    "collapsed": true
   },
   "outputs": [],
   "source": [
    "header_dtype = numpy.dtype([('rows', int32), ('cols', int32)])"
   ]
  },
  {
   "cell_type": "markdown",
   "metadata": {},
   "source": [
    "Open a file for read/write access in binary mode."
   ]
  },
  {
   "cell_type": "code",
   "execution_count": 11,
   "metadata": {
    "collapsed": false
   },
   "outputs": [],
   "source": [
    "f = open('writable.bin', 'r+b')"
   ]
  },
  {
   "cell_type": "markdown",
   "metadata": {},
   "source": [
    "Create a read-only memory map from the opened file with the correct size to read the header of the file."
   ]
  },
  {
   "cell_type": "code",
   "execution_count": 12,
   "metadata": {
    "collapsed": false
   },
   "outputs": [],
   "source": [
    "mm = mmap.mmap(f.fileno(), header_dtype.itemsize,\n",
    "               access=mmap.ACCESS_READ)"
   ]
  },
  {
   "cell_type": "markdown",
   "metadata": {},
   "source": [
    "Create a new array using the ndarray constructor. The first argument is the shape, and we pass in the data type and the memory buffer to use (mm) as keyword arguments."
   ]
  },
  {
   "cell_type": "code",
   "execution_count": 13,
   "metadata": {
    "collapsed": false
   },
   "outputs": [],
   "source": [
    "header = numpy.ndarray((), dtype=header_dtype, buffer=mm)\n",
    "rows = header['rows']\n",
    "cols = header['cols']"
   ]
  },
  {
   "cell_type": "code",
   "execution_count": 14,
   "metadata": {
    "collapsed": false
   },
   "outputs": [
    {
     "data": {
      "text/plain": [
       "(array(6, dtype=int32), array(5, dtype=int32))"
      ]
     },
     "execution_count": 14,
     "metadata": {},
     "output_type": "execute_result"
    }
   ],
   "source": [
    "rows, cols"
   ]
  },
  {
   "cell_type": "markdown",
   "metadata": {},
   "source": [
    "Create a writable memory map to use for the data array. The size of the memory map in bytes is the size of a float64 (8) x rows x columns."
   ]
  },
  {
   "cell_type": "code",
   "execution_count": null,
   "metadata": {
    "collapsed": false
   },
   "outputs": [],
   "source": [
    "mm = mmap.mmap(f.fileno(), 8*rows*cols + header_dtype.itemsize, access=mmap.ACCESS_WRITE)"
   ]
  },
  {
   "cell_type": "markdown",
   "metadata": {},
   "source": [
    "Create our data array using this new memory map. Start the arrays data at the memory location directly after the header using offset."
   ]
  },
  {
   "cell_type": "code",
   "execution_count": null,
   "metadata": {
    "collapsed": false
   },
   "outputs": [],
   "source": [
    "data = numpy.ndarray((rows, cols), dtype='float64', buffer=mm,\n",
    "                     offset=header_dtype.itemsize)"
   ]
  },
  {
   "cell_type": "code",
   "execution_count": 15,
   "metadata": {
    "collapsed": false
   },
   "outputs": [
    {
     "data": {
      "text/plain": [
       "memmap([[  0.,   1.,   2.,   3.,   4.],\n",
       "       [  5.,   6.,   7.,   8.,   9.],\n",
       "       [ 10.,  11.,  12.,  13.,  14.],\n",
       "       [ 15.,  16.,  17.,  18.,  19.],\n",
       "       [ 20.,  21.,  22.,  23.,  24.],\n",
       "       [ 25.,  26.,  27.,  28.,  29.]])"
      ]
     },
     "execution_count": 15,
     "metadata": {},
     "output_type": "execute_result"
    }
   ],
   "source": [
    "data"
   ]
  },
  {
   "cell_type": "markdown",
   "metadata": {},
   "source": [
    "## Structured Arrays\n",
    "\n",
    "| Name         |      Time |       Value |\n",
    "|:-------------|----------:|------------:|\n",
    "| __char[12]__ | __int64__ | __float32__ |\n",
    "| MSFT_profit  |        10 |        6.20 |\n",
    "| GOOG_profit  |        12 |       -1.08 |\n",
    "| MSFT_profit  |        18 |        8.40 |\n",
    "| INTC_profit  |        25 |       -0.20 |\n",
    "| ...          |       ... |         ... |\n",
    "| ...          |       ... |         ... |\n",
    "| GOOG_profit  |   1000325 |        3.20 |\n",
    "| GOOD_profit  |   1000350 |        4.50 |\n",
    "| INTC_profit  |   1000385 |       -1.05 |\n",
    "| MSFT_profit  |   1000390 |        5.60 |\n"
   ]
  },
  {
   "cell_type": "markdown",
   "metadata": {},
   "source": [
    "### memmap single array\n",
    "Elements of array can be any fixed-size data structure!"
   ]
  },
  {
   "cell_type": "code",
   "execution_count": 16,
   "metadata": {
    "collapsed": false
   },
   "outputs": [],
   "source": [
    "import numpy as np\n",
    "fmt = np.dtype ([('name', 'S12'),\n",
    "                 ('time', np.int64),\n",
    "                 ('value', np.float32)])\n",
    "v = [('MSFT_profit', 10, 6.20),\n",
    "     ('GOOG_profit', 12, -1.08),\n",
    "     ('INTC_profit', 1000385, -1.05),\n",
    "     ('MSFT_profit', 1000390, 5.60)]"
   ]
  },
  {
   "cell_type": "code",
   "execution_count": 17,
   "metadata": {
    "collapsed": false
   },
   "outputs": [
    {
     "data": {
      "text/plain": [
       "array([('MSFT_profit', 10, 6.199999809265137),\n",
       "       ('GOOG_profit', 12, -1.0800000429153442),\n",
       "       ('INTC_profit', 1000385, -1.0499999523162842),\n",
       "       ('MSFT_profit', 1000390, 5.599999904632568)], \n",
       "      dtype=[('name', 'S12'), ('time', '<i8'), ('value', '<f4')])"
      ]
     },
     "execution_count": 17,
     "metadata": {},
     "output_type": "execute_result"
    }
   ],
   "source": [
    "arr = np.array(v, dtype=fmt)\n",
    "arr"
   ]
  },
  {
   "cell_type": "markdown",
   "metadata": {},
   "source": [
    "Save the data to disk."
   ]
  },
  {
   "cell_type": "code",
   "execution_count": 18,
   "metadata": {
    "collapsed": true
   },
   "outputs": [],
   "source": [
    "arr.tofile('db.dat')"
   ]
  },
  {
   "cell_type": "markdown",
   "metadata": {},
   "source": [
    "And read it back with:"
   ]
  },
  {
   "cell_type": "code",
   "execution_count": 19,
   "metadata": {
    "collapsed": false
   },
   "outputs": [
    {
     "data": {
      "text/plain": [
       "array([('MSFT_profit', 10, 6.199999809265137),\n",
       "       ('GOOG_profit', 12, -1.0800000429153442),\n",
       "       ('INTC_profit', 1000385, -1.0499999523162842),\n",
       "       ('MSFT_profit', 1000390, 5.599999904632568)], \n",
       "      dtype=[('name', 'S12'), ('time', '<i8'), ('value', '<f4')])"
      ]
     },
     "execution_count": 19,
     "metadata": {},
     "output_type": "execute_result"
    }
   ],
   "source": [
    "arr2 = np.fromfile('db.dat', dtype=fmt)\n",
    "arr2"
   ]
  },
  {
   "cell_type": "code",
   "execution_count": 20,
   "metadata": {
    "collapsed": false
   },
   "outputs": [
    {
     "data": {
      "text/plain": [
       "memmap([('MSFT_profit', 10, 6.199999809265137),\n",
       "       ('GOOG_profit', 12, -1.0800000429153442),\n",
       "       ('INTC_profit', 1000385, -1.0499999523162842),\n",
       "       ('MSFT_profit', 1000390, 5.599999904632568)], \n",
       "      dtype=[('name', 'S12'), ('time', '<i8'), ('value', '<f4')])"
      ]
     },
     "execution_count": 20,
     "metadata": {},
     "output_type": "execute_result"
    }
   ],
   "source": [
    "#or\n",
    "arr3 = np.memmap('db.dat', dtype=fmt, mode='c')\n",
    "arr3"
   ]
  }
 ],
 "metadata": {
  "kernelspec": {
   "display_name": "Python 2",
   "language": "python",
   "name": "python2"
  },
  "language_info": {
   "codemirror_mode": {
    "name": "ipython",
    "version": 2
   },
   "file_extension": ".py",
   "mimetype": "text/x-python",
   "name": "python",
   "nbconvert_exporter": "python",
   "pygments_lexer": "ipython2",
   "version": "2.7.11"
  }
 },
 "nbformat": 4,
 "nbformat_minor": 0
}
